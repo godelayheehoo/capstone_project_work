{
 "cells": [
  {
   "cell_type": "code",
   "execution_count": 5,
   "metadata": {},
   "outputs": [],
   "source": [
    "import numpy as np\n",
    "import pickle"
   ]
  },
  {
   "cell_type": "markdown",
   "metadata": {},
   "source": [
    "The actual list to use:"
   ]
  },
  {
   "cell_type": "code",
   "execution_count": 4,
   "metadata": {},
   "outputs": [],
   "source": []
  },
  {
   "cell_type": "code",
   "execution_count": 30,
   "metadata": {},
   "outputs": [],
   "source": [
    "#will send all subreddit names to lowercase\n",
    "extreme_list_primary=['The_Donald','chapotraphouse','greatawakening','the_greatawakening','cbts_stream','milliondollarextreme',\n",
    "                     'pizzagate','physical_reomval','mensrights','theredpill','hedgewik','fuckhedgewikthenazi','sargonofakkad',\n",
    "                     'the_donaldunleashed','tommyrobinson','antifahedgewik','altright','metacanada' #huh, go figure\n",
    "                      ,'european' #again, huh\n",
    "                      ,'uncensored'\n",
    "                      ,'imgoingtohellforthis','consumeproduct','cumtown'\n",
    "                      ''\n",
    "                     ]\n",
    "\n",
    "#screw it, call this a provisional list and get to work.  \n",
    "extreme_list_secondary=['Latestagecapitalism','neoliberal','thenewright','sjwhate','sjw_hate','fuckthealtright','benshapiro',\n",
    "                        'latestagesocialism','louderwithcrowder','newpatriotism','gendercritical']\n",
    "                        \n",
    "#Mixture of questionably political or questionably extreme\n",
    "fringe_list=['libertarian','socialism','anarcho_capitalism','progressive','goldandblack','monarchism',\n",
    "             'anarchotranshumanist','anarchafeminism']\n",
    "\n",
    "#ones we know are unused thanks to sub_counts. This will need to be updated and is currently just copy+pasted in using hte code\n",
    "# [key for key in working_list if sub_counts.get(key,0)<100]\n",
    "droppable_subs=['GREATAWAKENING',\n",
    " 'THE_GREATAWAKENING',\n",
    " 'CBTS_STREAM',\n",
    " 'PIZZAGATE',\n",
    " 'PHYSICAL_REOMVAL',\n",
    " 'HEDGEWIK',\n",
    " 'FUCKHEDGEWIKTHENAZI',\n",
    " 'THE_DONALDUNLEASHED',\n",
    " 'TOMMYROBINSON',\n",
    " 'ANTIFAHEDGEWIK',\n",
    " 'ALTRIGHT',\n",
    " 'EUROPEAN',\n",
    " 'UNCENSORED',\n",
    " 'CONSUMEPRODUCT',\n",
    " 'BENSHAPIRO']\n",
    "\n",
    "#not used\n",
    "['cringeanarchy','dankmemes','criangeanarchy']\n",
    "\n",
    "working_list=extreme_list_primary+extreme_list_secondary\n",
    "# +fringe_list\n",
    "\n",
    "working_list=[s.upper() for s in working_list if s.upper() not in droppable_subs]\n",
    "#Using upper for easy readability\n",
    "\n",
    "\n",
    "#Crude saving style just so that there's a centralized way of coordinating the use of the list:\n",
    "\n",
    "with open('working_list.p','wb') as f:\n",
    "    pickle.dump(working_list,f)\n",
    "    \n",
    "#this will include no longer used subreddits"
   ]
  },
  {
   "cell_type": "code",
   "execution_count": 31,
   "metadata": {},
   "outputs": [
    {
     "data": {
      "text/plain": [
       "['GREATAWAKENING',\n",
       " 'THE_GREATAWAKENING',\n",
       " 'CBTS_STREAM',\n",
       " 'PIZZAGATE',\n",
       " 'PHYSICAL_REOMVAL',\n",
       " 'HEDGEWIK',\n",
       " 'FUCKHEDGEWIKTHENAZI',\n",
       " 'THE_DONALDUNLEASHED',\n",
       " 'TOMMYROBINSON',\n",
       " 'ANTIFAHEDGEWIK',\n",
       " 'ALTRIGHT',\n",
       " 'EUROPEAN',\n",
       " 'UNCENSORED',\n",
       " 'CONSUMEPRODUCT',\n",
       " 'BENSHAPIRO']"
      ]
     },
     "execution_count": 31,
     "metadata": {},
     "output_type": "execute_result"
    }
   ],
   "source": [
    "droppable_subs"
   ]
  },
  {
   "cell_type": "code",
   "execution_count": 32,
   "metadata": {},
   "outputs": [
    {
     "data": {
      "text/plain": [
       "['THE_DONALD',\n",
       " 'CHAPOTRAPHOUSE',\n",
       " 'MILLIONDOLLAREXTREME',\n",
       " 'MENSRIGHTS',\n",
       " 'THEREDPILL',\n",
       " 'SARGONOFAKKAD',\n",
       " 'METACANADA',\n",
       " 'IMGOINGTOHELLFORTHIS',\n",
       " 'CUMTOWN',\n",
       " 'LATESTAGECAPITALISM',\n",
       " 'NEOLIBERAL',\n",
       " 'THENEWRIGHT',\n",
       " 'SJWHATE',\n",
       " 'SJW_HATE',\n",
       " 'FUCKTHEALTRIGHT',\n",
       " 'LATESTAGESOCIALISM',\n",
       " 'LOUDERWITHCROWDER',\n",
       " 'NEWPATRIOTISM',\n",
       " 'GENDERCRITICAL']"
      ]
     },
     "execution_count": 32,
     "metadata": {},
     "output_type": "execute_result"
    }
   ],
   "source": [
    "working_list"
   ]
  },
  {
   "cell_type": "markdown",
   "metadata": {},
   "source": [
    "### Some further list thoughts:\n",
    "\n",
    "There's a necessary assumption here that the communities being labeled as \"extreme\" due to being described as such at *some* time extends to the communities being extreme **at the time being examined**. \n",
    "\n",
    "It's difficult to tell where just \"conspiracy theory subreddit\" begins or ends. \n",
    "\n",
    "Note the two skewings on reddit:  There's a definite liberal-to-left bent to the users, which among other things means more communities around there but also a general vibe of that throughout; further that might affect what offends people. \n",
    "\n",
    "I'm unconvinced *all* of these belong on here, but that's a dangerous thing to try to incorporate.  \"political or not\" I did use judgmeent on, which is tricky. \n",
    "\n",
    "Loose:\n",
    "https://www.reddit.com/r/redditlists/comments/josdr/list_of_political_subreddits/\n",
    "\n",
    "- Much discussion that could be found was not incredibly close to the time the data was collected, implications obvious\n",
    "\n",
    "- againsthatesubreddits was used for understanding the content of banned communities but wasn't used as a direct reference out of caution. \n",
    "\n",
    "-\"Banned for promoting hate\" + a political orientation was considered sufficient\n",
    "\n",
    "# Further work open: \n",
    "more fine-tooth bifurcation, likely into natural clusterings.  \n",
    "\n",
    "# Merits discussion: \n",
    "> During a 2018 interview with Andrew Marantz of the New Yorker, Reddit’s CEO said, “I’m confident that Reddit could sway elections,” followed by “we wouldn’t do it, of course.” Of course, that wasn’t true. \n",
    "\n",
    "\n",
    "# Some locations: \n",
    "https://www.vice.com/en_us/article/8xxymb/here-are-reddits-whiniest-most-low-key-toxic-subreddits\n",
    "https://www.theverge.com/2020/6/29/21304947/reddit-ban-subreddits-the-donald-chapo-trap-house-new-content-policy-rules"
   ]
  },
  {
   "cell_type": "code",
   "execution_count": null,
   "metadata": {},
   "outputs": [],
   "source": []
  }
 ],
 "metadata": {
  "kernelspec": {
   "display_name": "Python 3",
   "language": "python",
   "name": "python3"
  },
  "language_info": {
   "codemirror_mode": {
    "name": "ipython",
    "version": 3
   },
   "file_extension": ".py",
   "mimetype": "text/x-python",
   "name": "python",
   "nbconvert_exporter": "python",
   "pygments_lexer": "ipython3",
   "version": "3.7.7"
  }
 },
 "nbformat": 4,
 "nbformat_minor": 4
}
