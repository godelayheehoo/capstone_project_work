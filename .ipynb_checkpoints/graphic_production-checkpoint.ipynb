{
 "cells": [
  {
   "cell_type": "code",
   "execution_count": 30,
   "metadata": {},
   "outputs": [],
   "source": [
    "import seaborn as sns\n",
    "import pickle\n",
    "import numpy as np\n",
    "import matplotlib.pyplot as plt"
   ]
  },
  {
   "cell_type": "code",
   "execution_count": 27,
   "metadata": {},
   "outputs": [],
   "source": [
    "\n",
    "with open('working_list.p','rb') as f:\n",
    "    working_list=pickle.load(f)\n",
    "with open('0809subcounts.p','rb') as f:\n",
    "    sub_counts=pickle.load(f)"
   ]
  },
  {
   "cell_type": "code",
   "execution_count": 37,
   "metadata": {},
   "outputs": [],
   "source": [
    "sub_sizes=np.array([v for v in sub_counts.values()])\n",
    "trimmed_subs={k:v for k,v in sub_counts.items() if v>=100}\n",
    "trimmed_sizes=np.array([v for v in trimmed_subs.values()])"
   ]
  },
  {
   "cell_type": "code",
   "execution_count": 38,
   "metadata": {},
   "outputs": [
    {
     "data": {
      "text/plain": [
       "100"
      ]
     },
     "execution_count": 38,
     "metadata": {},
     "output_type": "execute_result"
    }
   ],
   "source": [
    "trimmed_sizes.min()"
   ]
  },
  {
   "cell_type": "code",
   "execution_count": 39,
   "metadata": {},
   "outputs": [
    {
     "data": {
      "text/plain": [
       "<AxesSubplot:>"
      ]
     },
     "execution_count": 39,
     "metadata": {},
     "output_type": "execute_result"
    },
    {
     "data": {
      "image/png": "[encoded data removed]",
      "text/plain": [
       "<Figure size 432x288 with 1 Axes>"
      ]
     },
     "metadata": {
      "needs_background": "light"
     },
     "output_type": "display_data"
    }
   ],
   "source": [
    "#Not helpful, of course:\n",
    "sns.distplot(\n",
    "    np.array([trimmed_sizes])\n",
    "            )\n"
   ]
  },
  {
   "cell_type": "code",
   "execution_count": 58,
   "metadata": {},
   "outputs": [
    {
     "ename": "SyntaxError",
     "evalue": "EOL while scanning string literal (<ipython-input-58-df7c28a80a68>, line 8)",
     "output_type": "error",
     "traceback": [
      "\u001b[1;36m  File \u001b[1;32m\"<ipython-input-58-df7c28a80a68>\"\u001b[1;36m, line \u001b[1;32m8\u001b[0m\n\u001b[1;33m    plt.annotate(z,(x,0),(7*count/len(working_list),(1.75*count/len(working_list))),arrowprops={'arrowstyle\u001b[0m\n\u001b[1;37m                                                                                                           ^\u001b[0m\n\u001b[1;31mSyntaxError\u001b[0m\u001b[1;31m:\u001b[0m EOL while scanning string literal\n"
     ]
    }
   ],
   "source": [
    "#Logged with powers of 10 (can you pass log axes to seaborn? surely you can):\n",
    "sns.distplot(np.log10(sub_sizes))\n",
    "\n",
    "#Annotating with sub names, will figure out y location or better strategy later.  Ideally, extract from the kde\n",
    "#For now, just staggering the y's.  Could also just pick a few randomly. \n",
    "for count,z in enumerate(working_list):\n",
    "    x=np.log10(sub_counts[z])\n",
    "    plt.annotate(z,(x,0),(7*count/len(working_list),(1.75*count/len(working_list))),arrowprops={'arrowstyle\n",
    "                                                                                                \n",
    "#Placement is horrible, just figure it out later. "
   ]
  },
  {
   "cell_type": "code",
   "execution_count": 52,
   "metadata": {},
   "outputs": [
    {
     "name": "stdout",
     "output_type": "stream",
     "text": [
      "5.938292011122644\n",
      "5.030356805310842\n",
      "4.641979501682218\n",
      "4.55763951524678\n",
      "4.417637739652229\n",
      "3.8809849904867533\n",
      "4.139406770441792\n",
      "4.653771910684735\n",
      "3.7413092088995694\n",
      "4.626042522003252\n",
      "5.255909003691814\n",
      "3.53567380342575\n",
      "3.9353056902899253\n",
      "2.0791812460476247\n",
      "4.326929537043505\n",
      "2.255272505103306\n",
      "2.1903316981702914\n",
      "2.776701183988411\n",
      "4.210024073804233\n"
     ]
    }
   ],
   "source": [
    "for z in working_list:\n",
    "    print(np.log10(sub_counts[z]))"
   ]
  },
  {
   "cell_type": "code",
   "execution_count": null,
   "metadata": {},
   "outputs": [],
   "source": []
  }
 ],
 "metadata": {
  "kernelspec": {
   "display_name": "Python 3",
   "language": "python",
   "name": "python3"
  },
  "language_info": {
   "codemirror_mode": {
    "name": "ipython",
    "version": 3
   },
   "file_extension": ".py",
   "mimetype": "text/x-python",
   "name": "python",
   "nbconvert_exporter": "python",
   "pygments_lexer": "ipython3",
   "version": "3.7.7"
  }
 },
 "nbformat": 4,
 "nbformat_minor": 4
}
