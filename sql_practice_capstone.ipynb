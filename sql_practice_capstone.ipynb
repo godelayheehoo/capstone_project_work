{
 "cells": [
  {
   "cell_type": "code",
   "execution_count": 1,
   "metadata": {
    "ExecuteTime": {
     "end_time": "2020-08-10T13:03:36.081749Z",
     "start_time": "2020-08-10T13:03:36.073751Z"
    }
   },
   "outputs": [],
   "source": [
    "import sqlite3\n",
    "conn=sqlite3.connect('big_dfs_saved_08_09_2017_database.db')\n",
    "c=conn.cursor()"
   ]
  },
  {
   "cell_type": "code",
   "execution_count": null,
   "metadata": {
    "ExecuteTime": {
     "end_time": "2020-08-10T13:39:09.392404Z",
     "start_time": "2020-08-10T13:38:26.763Z"
    }
   },
   "outputs": [],
   "source": [
    "c.execute('''\n",
    "SELECT DISTINCT subreddit FROM posts WHERE subreddit='askreddit'\n",
    "''').fetchone()"
   ]
  },
  {
   "cell_type": "markdown",
   "metadata": {},
   "source": [
    "# regexr.com\n",
    "\n",
    "\n",
    "- I'm likely going to have to bring in the data in such a way that some of the bread-and-butter EDA tactics won't work nicely. It doesn't seem worthwhile to bring in empty posts, for instance, just to be able to report on them. I could keep track of those numerically I guess, but is that worth doing?\n",
    " \n",
    " - any guess on if it's more efficient to simplify each entry as I read them in (lowercasing, etc) or as a full pandas dframe? I'd assume the latter, if there's any difference at all.\n",
    " \n",
    " - If I'm going to do fringe groups or whatever in general by user, I'm going to run into trouble with not successfully catching all fringe groups.  If I just do this on a per-forum basis, It'd have to be between, say, \"these ones I hand-picked and these others\" and I'm not sure how well I could justify the applicability.  Filtering out off-topic things?    Picking out posts that are *political* and posts that aren't isn't quite the same thing, though easier to justify.  \"Proof of concept / extensibility\" arguments don't work, right, it needs to be immediately useful?\n",
    " \n",
    "- If I do do this by user I can just try to catch most of the big ones and hope the underlying messiness isn't huge.  Is that okay?  Presumably real-world data won't be pristine.   \n",
    " \n",
    " \n",
    "- Any attempt to generalize from \"these political subreddits\" to \"political subreddits\" is obviously a little weak.  Should I hold back some known political communities to test this on?\n",
    " \n",
    " - I'm planning on not using many features just because of how worried I am about getting the data.  I think I'm down to just textual message content and *maybe* subreddits linked & websites linked.  \n",
    " \n",
    " "
   ]
  },
  {
   "cell_type": "code",
   "execution_count": 6,
   "metadata": {
    "ExecuteTime": {
     "end_time": "2020-08-10T13:30:24.322127Z",
     "start_time": "2020-08-10T13:30:24.316157Z"
    }
   },
   "outputs": [
    {
     "data": {
      "text/plain": [
       "[]"
      ]
     },
     "execution_count": 6,
     "metadata": {},
     "output_type": "execute_result"
    }
   ],
   "source": [
    "test_query"
   ]
  },
  {
   "cell_type": "code",
   "execution_count": 32,
   "metadata": {
    "ExecuteTime": {
     "end_time": "2020-08-10T16:59:21.435553Z",
     "start_time": "2020-08-10T16:58:20.187187Z"
    }
   },
   "outputs": [
    {
     "ename": "KeyboardInterrupt",
     "evalue": "",
     "output_type": "error",
     "traceback": [
      "\u001b[1;31m---------------------------------------------------------------------------\u001b[0m",
      "\u001b[1;31mKeyboardInterrupt\u001b[0m                         Traceback (most recent call last)",
      "\u001b[1;32m<ipython-input-32-f2eb6b0d8af0>\u001b[0m in \u001b[0;36m<module>\u001b[1;34m\u001b[0m\n\u001b[0;32m      2\u001b[0m \u001b[1;33m\u001b[0m\u001b[0m\n\u001b[0;32m      3\u001b[0m \u001b[0msubreddit\u001b[0m \u001b[1;33m=\u001b[0m \u001b[1;34m'askreddit'\u001b[0m\u001b[1;33m\u001b[0m\u001b[1;33m\u001b[0m\u001b[0m\n\u001b[1;32m----> 4\u001b[1;33m ''').fetchone()\n\u001b[0m",
      "\u001b[1;31mKeyboardInterrupt\u001b[0m: "
     ]
    }
   ],
   "source": [
    "c.execute('''SELECT * FROM POSTS WHERE \n",
    "\n",
    "subreddit = 'askreddit'\n",
    "''').fetchone()"
   ]
  },
  {
   "cell_type": "code",
   "execution_count": null,
   "metadata": {},
   "outputs": [],
   "source": []
  }
 ],
 "metadata": {
  "kernelspec": {
   "display_name": "Python 3",
   "language": "python",
   "name": "python3"
  },
  "language_info": {
   "codemirror_mode": {
    "name": "ipython",
    "version": 3
   },
   "file_extension": ".py",
   "mimetype": "text/x-python",
   "name": "python",
   "nbconvert_exporter": "python",
   "pygments_lexer": "ipython3",
   "version": "3.7.6"
  }
 },
 "nbformat": 4,
 "nbformat_minor": 4
}
